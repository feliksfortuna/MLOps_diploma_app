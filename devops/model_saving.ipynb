{
 "cells": [
  {
   "cell_type": "code",
   "execution_count": 15,
   "metadata": {},
   "outputs": [
    {
     "data": {
      "application/vnd.jupyter.widget-view+json": {
       "model_id": "50da93c2f8154acfb3470c4ddaea1198",
       "version_major": 2,
       "version_minor": 0
      },
      "text/plain": [
       "Downloading artifacts:   0%|          | 0/8 [00:00<?, ?it/s]"
      ]
     },
     "metadata": {},
     "output_type": "display_data"
    },
    {
     "name": "stdout",
     "output_type": "stream",
     "text": [
      "Saving model wrapper to './model/model.pkl'...\n",
      "Model wrapper saved successfully.\n"
     ]
    }
   ],
   "source": [
    "import mlflow\n",
    "import cloudpickle\n",
    "import os\n",
    "\n",
    "# Define the path to save the model\n",
    "model_path = \"./model/model.pkl\"\n",
    "\n",
    "# Create the directory if it does not exist\n",
    "os.makedirs(os.path.dirname(model_path), exist_ok=True)\n",
    "\n",
    "# Set the MLflow tracking URI\n",
    "mlflow.set_tracking_uri(\"http://seito.lavbic.net:5000\")\n",
    "\n",
    "# Load the model from MLflow registry\n",
    "model_uri = \"models:/Race prediction@production\"\n",
    "loaded_model = mlflow.pyfunc.load_model(model_uri)\n",
    "\n",
    "# Create a simple wrapper class that can be pickled\n",
    "class ModelWrapper:\n",
    "\tdef __init__(self, mlflow_model):\n",
    "\t\tself.mlflow_model = mlflow_model\n",
    "\t\t\n",
    "\tdef predict(self, X):\n",
    "\t\treturn self.mlflow_model.predict(X)\n",
    "\n",
    "# Create wrapper instance\n",
    "wrapper = ModelWrapper(loaded_model)\n",
    "\n",
    "# Save the wrapper using cloudpickle which handles more complex objects\n",
    "print(f\"Saving model wrapper to '{model_path}'...\")\n",
    "with open(model_path, 'wb') as f:\n",
    "\tcloudpickle.dump(wrapper, f)\n",
    "print(\"Model wrapper saved successfully.\")"
   ]
  },
  {
   "cell_type": "code",
   "execution_count": 2,
   "metadata": {},
   "outputs": [
    {
     "name": "stdout",
     "output_type": "stream",
     "text": [
      "Error: {\"error\":\"Failed to enforce schema of data '[[ 8.29857663e-01  4.74131719e-01  5.71027792e-01 ...  2.70000000e+01\\n   1.12000000e+02  2.39800000e+03]\\n [ 8.29857663e-01  4.74131719e-01  5.71027792e-01 ...  6.10000000e+01\\n   2.46000000e+02  1.56700000e+03]\\n [ 8.29857663e-01  4.74131719e-01  5.71027792e-01 ...  7.00000000e+00\\n  -1.00000000e+00  2.41100000e+03]\\n ...\\n [ 8.29857663e-01  4.74131719e-01  5.71027792e-01 ...  0.00000000e+00\\n   0.00000000e+00  0.00000000e+00]\\n [ 8.29857663e-01  4.74131719e-01  5.71027792e-01 ...  0.00000000e+00\\n   0.00000000e+00  0.00000000e+00]\\n [ 8.29857663e-01  4.74131719e-01  5.71027792e-01 ...  0.00000000e+00\\n   0.00000000e+00  0.00000000e+00]]' with schema '[Tensor('float32', (-1, 227))]'. Error: dtype of input float64 does not match expected dtype float32\"}\n",
      "\n"
     ]
    }
   ],
   "source": [
    "import requests\n",
    "import json\n",
    "\n",
    "# URL of the Flask server (adjust the port if necessary)\n",
    "url = \"http://seito.lavbic.net:6000/predict\"\n",
    "\n",
    "# Index of the race data you want to predict\n",
    "payload = {\n",
    "    \"index\": 0  # Replace with the actual index you want to use\n",
    "}\n",
    "\n",
    "# Send the POST request\n",
    "try:\n",
    "    response = requests.post(url, headers={\"Content-Type\": \"application/json\"}, data=json.dumps(payload), timeout=60)\n",
    "    \n",
    "    # Check if the response is successful\n",
    "    if response.status_code == 200:\n",
    "        result = response.json()\n",
    "        print(\"Prediction result:\", result)\n",
    "    else:\n",
    "        print(\"Error:\", response.text)\n",
    "except requests.exceptions.RequestException as e:\n",
    "    print(\"Request failed:\", e)\n"
   ]
  }
 ],
 "metadata": {
  "kernelspec": {
   "display_name": "Python 3",
   "language": "python",
   "name": "python3"
  },
  "language_info": {
   "codemirror_mode": {
    "name": "ipython",
    "version": 3
   },
   "file_extension": ".py",
   "mimetype": "text/x-python",
   "name": "python",
   "nbconvert_exporter": "python",
   "pygments_lexer": "ipython3",
   "version": "3.11.10"
  }
 },
 "nbformat": 4,
 "nbformat_minor": 2
}
